{
  "nbformat": 4,
  "nbformat_minor": 0,
  "metadata": {
    "colab": {
      "provenance": [],
      "authorship_tag": "ABX9TyPxtfRfvX86b10UrsBbnn6X",
      "include_colab_link": true
    },
    "kernelspec": {
      "name": "python3",
      "display_name": "Python 3"
    },
    "language_info": {
      "name": "python"
    }
  },
  "cells": [
    {
      "cell_type": "markdown",
      "metadata": {
        "id": "view-in-github",
        "colab_type": "text"
      },
      "source": [
        "<a href=\"https://colab.research.google.com/github/PanizFarahani/wordnet/blob/main/Untitled3.ipynb\" target=\"_parent\"><img src=\"https://colab.research.google.com/assets/colab-badge.svg\" alt=\"Open In Colab\"/></a>"
      ]
    },
    {
      "cell_type": "code",
      "execution_count": null,
      "metadata": {
        "colab": {
          "base_uri": "https://localhost:8080/"
        },
        "id": "WqEJFgkUvOSz",
        "outputId": "1649561a-fd84-45d1-abd5-fbf68890bb41"
      },
      "outputs": [
        {
          "output_type": "stream",
          "name": "stdout",
          "text": [
            "courageous wordnet:\n",
            "\n",
            "brave.a.01\n",
            "[Lemma('brave.a.01.brave'), Lemma('brave.a.01.courageous')]\n",
            "possessing or displaying courage; able to face and deal with danger or fear without flinching; - Herman Melville; - William Wordsworth\n",
            "['Familiarity with danger makes a brave man braver but less daring', 'a frank courageous heart...triumphed over pain', 'set a courageous example by leading them safely into and out of enemy-held territory']\n",
            "synonyms of courageous = {'brave'}\n",
            "antonyms of courageous = {<bound method Lemma.name of Lemma('cowardly.a.01.cowardly')>}\n"
          ]
        },
        {
          "output_type": "stream",
          "name": "stderr",
          "text": [
            "[nltk_data] Downloading package wordnet to /root/nltk_data...\n",
            "[nltk_data]   Package wordnet is already up-to-date!\n"
          ]
        }
      ],
      "source": [
        "import nltk\n",
        "nltk.download('wordnet')\n",
        "from nltk.corpus import wordnet\n",
        "syn = wordnet.synsets(\"courageous\")\n",
        "print(\"courageous wordnet:\\n\")\n",
        "print(syn[0].name())\n",
        "print(syn[0].lemmas())\n",
        "print(syn[0].definition())\n",
        "print(syn[0].examples())\n",
        "synonyms=[]\n",
        "antonyms = []\n",
        "for s in wordnet.synsets('courageous'):\n",
        "  for l in s.lemmas():\n",
        "    synonyms.append(l.name())\n",
        "    if l.antonyms():\n",
        "      antonyms.append(l.antonyms()[0].name)\n",
        "      print(\"synonyms of courageous =\",set(synonyms))\n",
        "      print(\"antonyms of courageous =\",set(antonyms))"
      ]
    }
  ]
}